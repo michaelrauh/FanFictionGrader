{
 "cells": [
  {
   "cell_type": "markdown",
   "metadata": {},
   "source": [
    "# Data Exploration!"
   ]
  },
  {
   "cell_type": "code",
   "execution_count": 1,
   "metadata": {
    "scrolled": true
   },
   "outputs": [
    {
     "name": "stderr",
     "output_type": "stream",
     "text": [
      "[nltk_data] Downloading package punkt to\n",
      "[nltk_data]     /Users/michael.b.rauh/nltk_data...\n",
      "[nltk_data]   Package punkt is already up-to-date!\n",
      "[nltk_data] Downloading package averaged_perceptron_tagger to\n",
      "[nltk_data]     /Users/michael.b.rauh/nltk_data...\n",
      "[nltk_data]   Package averaged_perceptron_tagger is already up-to-\n",
      "[nltk_data]       date!\n"
     ]
    }
   ],
   "source": [
    "import sklearn\n",
    "import nltk\n",
    "nltk.download('punkt')\n",
    "nltk.download('averaged_perceptron_tagger')\n",
    "import os"
   ]
  },
  {
   "cell_type": "code",
   "execution_count": 2,
   "metadata": {},
   "outputs": [],
   "source": [
    "def get_tag_counts_for_text(story_string):\n",
    "    text = nltk.word_tokenize(story_string)\n",
    "    word_tag_tuples = nltk.pos_tag(text)\n",
    "    all_tags = [tag for _, tag in word_tag_tuples]\n",
    "    possible_tags = set(all_tags)\n",
    "    tag_counts = dict()\n",
    "    for tag in all_tags:\n",
    "        if tag in tag_counts.keys():\n",
    "            tag_counts[tag] += 1\n",
    "        else:\n",
    "            tag_counts[tag] = 0\n",
    "    return tag_counts\n",
    "\n",
    "flatten = lambda l: [item for sublist in l for item in sublist]\n",
    "    "
   ]
  },
  {
   "cell_type": "code",
   "execution_count": 3,
   "metadata": {},
   "outputs": [],
   "source": [
    "qualities = ['good', 'medium', 'bad']    \n",
    "stories = flatten([[{\"quality\": quality, \"filename\": file} for file in os.listdir(quality)] for quality in qualities])\n",
    "\n",
    "\n",
    "for story in stories:\n",
    "        with open(story[\"quality\"] + '/' + story[\"filename\"]) as f:\n",
    "            story[\"tag_counts\"] = get_tag_counts_for_text(f.read())"
   ]
  },
  {
   "cell_type": "code",
   "execution_count": 4,
   "metadata": {},
   "outputs": [
    {
     "data": {
      "text/plain": [
       "{'quality': 'medium',\n",
       " 'filename': 'MoriasDepths - To whom this may concern.txt',\n",
       " 'tag_counts': {'TO': 58,\n",
       "  'WP': 11,\n",
       "  'DT': 96,\n",
       "  'MD': 25,\n",
       "  'NN': 130,\n",
       "  ':': 19,\n",
       "  'NNP': 39,\n",
       "  'JJ': 46,\n",
       "  'CD': 10,\n",
       "  'NNS': 28,\n",
       "  'IN': 153,\n",
       "  'VBD': 73,\n",
       "  'RB': 137,\n",
       "  ',': 77,\n",
       "  'VBZ': 34,\n",
       "  'PRP': 212,\n",
       "  'PRP$': 26,\n",
       "  '.': 82,\n",
       "  'VBP': 75,\n",
       "  'EX': 6,\n",
       "  'VB': 82,\n",
       "  'JJR': 7,\n",
       "  'CC': 45,\n",
       "  'VBN': 20,\n",
       "  'VBG': 42,\n",
       "  'WDT': 1,\n",
       "  'WRB': 9,\n",
       "  'RP': 8,\n",
       "  '``': 2,\n",
       "  \"''\": 2,\n",
       "  'RBR': 0,\n",
       "  'RBS': 0,\n",
       "  'POS': 0,\n",
       "  'UH': 0,\n",
       "  'JJS': 0}}"
      ]
     },
     "execution_count": 4,
     "metadata": {},
     "output_type": "execute_result"
    }
   ],
   "source": [
    "stories[10]"
   ]
  },
  {
   "cell_type": "code",
   "execution_count": null,
   "metadata": {},
   "outputs": [],
   "source": []
  }
 ],
 "metadata": {
  "kernelspec": {
   "display_name": "Python 3",
   "language": "python",
   "name": "python3"
  },
  "language_info": {
   "codemirror_mode": {
    "name": "ipython",
    "version": 3
   },
   "file_extension": ".py",
   "mimetype": "text/x-python",
   "name": "python",
   "nbconvert_exporter": "python",
   "pygments_lexer": "ipython3",
   "version": "3.7.3"
  }
 },
 "nbformat": 4,
 "nbformat_minor": 2
}
